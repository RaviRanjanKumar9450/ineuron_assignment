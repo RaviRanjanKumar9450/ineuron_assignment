{
  "nbformat": 4,
  "nbformat_minor": 0,
  "metadata": {
    "colab": {
      "provenance": [],
      "collapsed_sections": []
    },
    "kernelspec": {
      "name": "python3",
      "display_name": "Python 3"
    },
    "language_info": {
      "name": "python"
    }
  },
  "cells": [
    {
      "cell_type": "markdown",
      "source": [
        "# ASSIGNMENTS - Compulsory\n",
        "## Send it before 0000 hrs IST or 12 AM Wednesday\n",
        "\n",
        "## NOTE: Evaluation will be done before next class.\n",
        "\n",
        "## HOW TO SUBMIT: -\n",
        "Download this notebook, Solve it and upload in the google form given in the mail."
      ],
      "metadata": {
        "id": "cyOfbWCdOjEr"
      }
    },
    {
      "cell_type": "code",
      "source": [],
      "metadata": {
        "id": "6sub5oys4Iav"
      },
      "execution_count": null,
      "outputs": []
    },
    {
      "cell_type": "markdown",
      "source": [
        "\n",
        "1. What is indentation error? Why indentation is important? Give one simple example?\n",
        "\n",
        "2. Correct the following code and write the comment where you made the correction?\n",
        "\n",
        "  ```python\n",
        "  class_started = bool(input(\"Hey friend, is class started?: [0-False/1-True]\"))\n",
        "\n",
        "  if class_started:\n",
        "      print(\"Since class started...\")\n",
        "      print(\"Lets concentrate\")\n",
        "  else:\n",
        "      print(\"Since class is not started...\")\n",
        "      print(\"let's revise\")    \n",
        "  ```\n",
        "\n",
        "  **HINT:** Refer your data type conversion class\n",
        "\n",
        "3. Use if else condition to verify that dataype of `input()` method in python is always string.\n",
        "\n",
        "4. Take 3 variables and assign integer values to them. Find the largest variable, by only using the if and else conditions.\n",
        "\n",
        "\n",
        "5. What would be the solution?\n",
        "    1. True\n",
        "    2. False\n",
        "\n",
        "    ```python\n",
        "    a = 6\n",
        "    b = 10\n",
        "    print( not ( not a == 10 or not b == 10) )\n",
        "    ```\n",
        "    \n",
        "6. Find the answer as well as find out the reason behind the result? -\n",
        "    - case 1:\n",
        "        ```python\n",
        "        A = 5.0\n",
        "        B = 10/2\n",
        "        print(A is B)\n",
        "        ```\n",
        "    - case 2:\n",
        "        ```python\n",
        "        A = 5.0\n",
        "        B = int(10/2)\n",
        "        print(A is B)\n",
        "        ```\n",
        "    - case 3:\n",
        "        ```python\n",
        "        A = 5.0\n",
        "        B = float(10/2)\n",
        "        print(A is B)\n",
        "        ```"
      ],
      "metadata": {
        "id": "GT4IytkJMNa-"
      }
    },
    {
      "cell_type": "markdown",
      "source": [
        "### Try to understand the following examples and answer the question based on it - \n",
        "    \n",
        "**Arithmatic Operators**\n",
        "\n",
        "|Operation|Meaning|\n",
        "|:-:|:-:|\n",
        "| **+** |addition|\n",
        "| **-** |subtraction|\n",
        "| **\\*** |multiplication|\n",
        "| **/** |true division|\n",
        "| **//** |integer division|\n",
        "| **%** |the modulo operator|\n",
        "\n",
        "\n",
        "Here `+`, `-`, `*`, `/` are regular arithmatic operators. Lets look at the `//` and `%` operators\n",
        "\n",
        "Usecase or examples - \n",
        "    \n",
        "```python\n",
        "var_a = 5\n",
        "var_b = 25\n",
        "integer_division = var_b // var_a\n",
        "print(f\"integer division: {var_b}/{var_a}={integer_division}\")\n",
        "```\n",
        "\n",
        "OUTPUT: integer division: 25/5=5\n",
        "\n",
        "```python\n",
        "var_a = 3\n",
        "var_b = 25\n",
        "integer_division = var_b // var_a\n",
        "print(f\"integer division: {var_b}/{var_a}={integer_division}\")\n",
        "```\n",
        "\n",
        "OUTPUT: integer division: 25/3=8\n",
        "\n",
        "```python\n",
        "var_a = 5\n",
        "var_b = 25\n",
        "remainder = var_b % var_a\n",
        "print(f\"remainder: {var_b}/{var_a} is {remainder}\")\n",
        "```\n",
        "\n",
        "OUTPUT: remainder: 25/5 is 0\n",
        "\n",
        "```python\n",
        "var_a = 3\n",
        "var_b = 25\n",
        "remainder = var_b % var_a\n",
        "print(f\"remainder: {var_b}/{var_a} is {remainder}\")\n",
        "```\n",
        "\n",
        "OUTPUT: remainder: 25/3 is 1\n",
        "\n"
      ],
      "metadata": {
        "id": "a_4kbBVWNY-4"
      }
    },
    {
      "cell_type": "markdown",
      "source": [
        "### Answer below questions on the above theory - \n",
        "\n",
        "7. Write a program that asks the user to enter a number. You should print out a message to the user, either “That number is divisible by either 3 or 5”, or “That number is not divisible by either 3 or 5”. Be sure to consider the data type of the input you are taking in from the user. Use a single if/else block to solve this problem.\n",
        "\n",
        "8. Take user input for length and width. Then calculate the area of rectangle. Also print as per length and width whether its a square of rectangle.\n",
        "\n",
        "9. Take two variable radius_1 and radius_2 and calculate the area of circle_1 and circle_2. Also print which circle has large area. If area is equal then print area is equal.\n",
        "\n",
        "10. Check whether a year is leap year or not. Use nested if...else to solve this problem. A leap year is exactly divisible by 4 except for century years (years ending with 00). The century year is a leap year only if it is perfectly divisible by 400."
      ],
      "metadata": {
        "id": "v288WPlMNxmM"
      }
    },
    {
      "cell_type": "code",
      "execution_count": null,
      "metadata": {
        "id": "XumyqFp6MHnv"
      },
      "outputs": [],
      "source": []
    },
    {
      "cell_type": "markdown",
      "source": [
        "1. What is indentation error? Why indentation is important? Give one simple example?\n",
        "\n",
        "Answer: Indentation error occur when we don't provide proper spacing (4 space or tab) while executing any loop.\n",
        "In C we uses middle bracket ({ }) to show that we are executing any function and after termination of this loop or function next function is going to be execute and one might have to take care of all these things so to overcome this issue, python has provided indentation for example if we have to run the first loop we have to press tab and write the function and the next line we be at same spacing or indentation. If we have to use another loop within that loop then by pressing tab again 4 space (overall 8 space) and we can write the function and this way we can provide many loops within loops."
      ],
      "metadata": {
        "id": "qsMB3wBq4Yyk"
      }
    },
    {
      "cell_type": "code",
      "source": [
        "a = int(input(\"Please write any number:\"))\n",
        "if a % 2 == 0:\n",
        "  print(f\"The number {a} is Even\")\n",
        "else:\n",
        "  print(f\"The number {a} is odd\")"
      ],
      "metadata": {
        "id": "vJiXygZU8YHf",
        "outputId": "96163b09-4c6f-448f-bd54-dec8ee6ca044",
        "colab": {
          "base_uri": "https://localhost:8080/"
        }
      },
      "execution_count": null,
      "outputs": [
        {
          "output_type": "stream",
          "name": "stdout",
          "text": [
            "Please write any number:45\n",
            "The number 45 is odd\n"
          ]
        }
      ]
    },
    {
      "cell_type": "markdown",
      "source": [
        "2. Correct the following code and write the comment where you made the correction?"
      ],
      "metadata": {
        "id": "XN-4Tjtc9ZCm"
      }
    },
    {
      "cell_type": "code",
      "source": [
        "class_started = bool(input(\"Hey friend, is class started?: [0-False/1-True]\"))\n",
        "\n",
        "if class_started == True:\n",
        "   print(\"Since class started...\")\n",
        "   print(\"Lets concentrate\")\n",
        "else:\n",
        "   print(\"Since class is not started...\")\n",
        "   print(\"let's revise\")  \n"
      ],
      "metadata": {
        "id": "OdKsus0R9oWN",
        "outputId": "fcd1b157-ad0d-4df6-f2b0-a012a991ae9f",
        "colab": {
          "base_uri": "https://localhost:8080/"
        }
      },
      "execution_count": null,
      "outputs": [
        {
          "output_type": "stream",
          "name": "stdout",
          "text": [
            "Hey friend, is class started?: [0-False/1-True]1\n",
            "Since class started...\n",
            "Lets concentrate\n"
          ]
        }
      ]
    },
    {
      "cell_type": "markdown",
      "source": [
        "3. Use if else condition to verify that dataype of input() method in python is always string."
      ],
      "metadata": {
        "id": "CtyV6tAr-GL6"
      }
    },
    {
      "cell_type": "code",
      "source": [
        "a = input(\"Please give your input\")\n",
        "if type(a) == str:\n",
        "  print(f\"The input {a} provided is string\")\n",
        "else:\n",
        "  print(f\"The input {a} provided is not a string\")"
      ],
      "metadata": {
        "id": "_uLgjokM-JeG",
        "outputId": "6963ae15-b2dc-4518-c318-1262d28753b5",
        "colab": {
          "base_uri": "https://localhost:8080/"
        }
      },
      "execution_count": null,
      "outputs": [
        {
          "output_type": "stream",
          "name": "stdout",
          "text": [
            "Please give your input45\n",
            "The input 45 provided is string\n"
          ]
        }
      ]
    },
    {
      "cell_type": "code",
      "source": [
        "a = input(\"Please give your input\")\n",
        "if type(a) == str:\n",
        "  print(f\"The input {a} provided is string\")\n",
        "else:\n",
        "  print(f\"The input {a} provided is not a string\")"
      ],
      "metadata": {
        "id": "tAhmdDMX_JzD",
        "outputId": "0ecdd4a3-c732-480d-fc4b-2a4df2a885b1",
        "colab": {
          "base_uri": "https://localhost:8080/"
        }
      },
      "execution_count": null,
      "outputs": [
        {
          "output_type": "stream",
          "name": "stdout",
          "text": [
            "Please give your inputravi\n",
            "The input ravi provided is string\n"
          ]
        }
      ]
    },
    {
      "cell_type": "markdown",
      "source": [
        "4. Take 3 variables and assign integer values to them. Find the largest variable, by only using the if and else conditions."
      ],
      "metadata": {
        "id": "4NcySFfP_VgV"
      }
    },
    {
      "cell_type": "code",
      "source": [
        "a = float(input(\"Enter the first number:\"))\n",
        "b = float(input(\"Enter the second number:\"))\n",
        "c = float(input(\"Enter the third number:\"))\n",
        "if a > b and a > c:\n",
        "  print(f\"The maximum number among {a},{b},{c} is {a}\")\n",
        "elif b > a and b > c:\n",
        "  print(f\"The maximum number among {a},{b},{c} is {b}\")\n",
        "else: \n",
        "  print(f\"The maximum number among {a},{b},{c} is {c}\")"
      ],
      "metadata": {
        "id": "zdc-RoYdCVNO",
        "outputId": "d80a22e1-3833-45d6-ba55-59d6c265ec24",
        "colab": {
          "base_uri": "https://localhost:8080/"
        }
      },
      "execution_count": null,
      "outputs": [
        {
          "output_type": "stream",
          "name": "stdout",
          "text": [
            "Enter the first number:12.1\n",
            "Enter the second number:12.3\n",
            "Enter the third number:12.5\n",
            "The maximum number among 12.1,12.3,12.5 is 12.5\n"
          ]
        }
      ]
    },
    {
      "cell_type": "markdown",
      "source": [
        "5. What would be the solution?"
      ],
      "metadata": {
        "id": "Na6DkOWEen18"
      }
    },
    {
      "cell_type": "code",
      "source": [
        "a = 6\n",
        "b = 10\n",
        "print( not ( not a == 10 or not b == 10) )"
      ],
      "metadata": {
        "id": "Or7ZLUHMermK",
        "outputId": "691c76d6-e11f-47b7-8cdd-2214243605eb",
        "colab": {
          "base_uri": "https://localhost:8080/"
        }
      },
      "execution_count": null,
      "outputs": [
        {
          "output_type": "stream",
          "name": "stdout",
          "text": [
            "False\n"
          ]
        }
      ]
    },
    {
      "cell_type": "code",
      "source": [
        "# Explanation\n",
        "# a == 10 is False\n",
        "# not a == 10 is True\n",
        "# b == 10 is True\n",
        "# not b == 10 False\n",
        "# ( not a == 10 or not b == 10) is (True + False) is True\n",
        "# ( not ( not a == 10 or not b == 10) ) is ( not (True)) is False"
      ],
      "metadata": {
        "id": "SQfMns_ffKph"
      },
      "execution_count": null,
      "outputs": []
    },
    {
      "cell_type": "markdown",
      "source": [
        "6. Find the answer as well as find out the reason behind the result? "
      ],
      "metadata": {
        "id": "i5lxxUI4gAqK"
      }
    },
    {
      "cell_type": "markdown",
      "source": [
        " - case 1:\n",
        "        ```python\n",
        "        A = 5.0\n",
        "        B = 10/2\n",
        "        print(A is B)\n",
        "        ```"
      ],
      "metadata": {
        "id": "F0BH-osrgE_Z"
      }
    },
    {
      "cell_type": "code",
      "source": [
        "A = 5.0\n",
        "B = 10/2\n",
        "print(A is B)"
      ],
      "metadata": {
        "id": "TznVmqebgSPb",
        "outputId": "2f5102a0-4ae2-4d59-a13f-a3985d915fe5",
        "colab": {
          "base_uri": "https://localhost:8080/"
        }
      },
      "execution_count": null,
      "outputs": [
        {
          "output_type": "stream",
          "name": "stdout",
          "text": [
            "False\n"
          ]
        }
      ]
    },
    {
      "cell_type": "code",
      "source": [
        "# A = 5.0 is float\n"
      ],
      "metadata": {
        "id": "IsaAex9AgWjP"
      },
      "execution_count": null,
      "outputs": []
    },
    {
      "cell_type": "code",
      "source": [
        "# case 2\n",
        "A = 5.0\n",
        "B = int(10/2)\n",
        "print(A is B)"
      ],
      "metadata": {
        "id": "mciA9w3Mk2II",
        "outputId": "270da09d-9fd9-4fad-e037-dfadaf2678c3",
        "colab": {
          "base_uri": "https://localhost:8080/"
        }
      },
      "execution_count": null,
      "outputs": [
        {
          "output_type": "stream",
          "name": "stdout",
          "text": [
            "False\n"
          ]
        }
      ]
    },
    {
      "cell_type": "code",
      "source": [
        "# A = 5.0 is float"
      ],
      "metadata": {
        "id": "hB_kBW1kk6ax"
      },
      "execution_count": null,
      "outputs": []
    },
    {
      "cell_type": "code",
      "source": [
        "# case 3\n",
        "A = 5.0\n",
        "B = float(10/2)\n",
        "print(A is B)"
      ],
      "metadata": {
        "id": "yy9ou6LglFZy",
        "outputId": "9b152bf8-3f9a-432b-a68e-6e22a4145e2a",
        "colab": {
          "base_uri": "https://localhost:8080/"
        }
      },
      "execution_count": null,
      "outputs": [
        {
          "output_type": "stream",
          "name": "stdout",
          "text": [
            "False\n"
          ]
        }
      ]
    },
    {
      "cell_type": "code",
      "source": [
        "#s"
      ],
      "metadata": {
        "id": "7fRfpAOzlN2W"
      },
      "execution_count": null,
      "outputs": []
    },
    {
      "cell_type": "code",
      "source": [],
      "metadata": {
        "id": "lYyG-oZklvGx"
      },
      "execution_count": null,
      "outputs": []
    },
    {
      "cell_type": "markdown",
      "source": [
        "7. Write a program that asks the user to enter a number. You should print out a message to the user, either “That number is divisible by either 3 or 5”, or “That number is not divisible by either 3 or 5”. Be sure to consider the data type of the input you are taking in from the user. Use a single if/else block to solve this problem."
      ],
      "metadata": {
        "id": "QtmfQGc5lym6"
      }
    },
    {
      "cell_type": "code",
      "source": [
        "a = int(input(\"Enter a number:\"))\n",
        "if a % 3 == 0 or a % 5 == 0:\n",
        "  print(f\"That number {a} is divisible by either 3 or 5\")\n",
        "else:\n",
        "  print(f\"That number {a} is not divisible by either 3 or 5\")"
      ],
      "metadata": {
        "id": "-0c_kLh0lzzk",
        "outputId": "8ddc2848-defd-4e71-fc00-2a28eecb187f",
        "colab": {
          "base_uri": "https://localhost:8080/"
        }
      },
      "execution_count": null,
      "outputs": [
        {
          "output_type": "stream",
          "name": "stdout",
          "text": [
            "Enter a number:31\n",
            "That number 31 is not divisible by either 3 or 5\n"
          ]
        }
      ]
    },
    {
      "cell_type": "markdown",
      "source": [
        "8. Take user input for length and width. Then calculate the area of rectangle. Also print as per length and width whether its a square of rectangle."
      ],
      "metadata": {
        "id": "sRI8Pn7TmveG"
      }
    },
    {
      "cell_type": "code",
      "source": [
        "l = float(input(\"Enter length of the side in meter:\"))\n",
        "b = float(input(\"Enter width of the side in meter:\"))\n",
        "if l == b:\n",
        "  print(f\"The area of square is {l*b}\")\n",
        "else:\n",
        "  print(f\"The area of rectangle is {l*b}\")"
      ],
      "metadata": {
        "id": "Z3xSKqnVm2q4",
        "outputId": "c95165d4-a5f4-4a3b-aec7-2823767e10ad",
        "colab": {
          "base_uri": "https://localhost:8080/"
        }
      },
      "execution_count": null,
      "outputs": [
        {
          "output_type": "stream",
          "name": "stdout",
          "text": [
            "Enter length of the side in meter:6\n",
            "Enter width of the side in meter:5\n",
            "The area of rectangle is 30.0\n"
          ]
        }
      ]
    },
    {
      "cell_type": "code",
      "source": [],
      "metadata": {
        "id": "HwG52AsEoQm9"
      },
      "execution_count": null,
      "outputs": []
    },
    {
      "cell_type": "markdown",
      "source": [
        "9. Take two variable radius_1 and radius_2 and calculate the area of circle_1 and circle_2. Also print which circle has large area. If area is equal then print area is equal."
      ],
      "metadata": {
        "id": "7grRPsvZoXwG"
      }
    },
    {
      "cell_type": "code",
      "source": [
        "radius_1 = float(input(\"Enter the radius of circle 1:\"))\n",
        "radius_2 = float(input(\"Enter the radius of circle 2:\"))\n",
        "if radius_1 > radius_2:\n",
        "  print(f\"The area of circle having {radius_1} is {3.14*radius_1**2} and the area of circle is {3.14*radius_2**2}, and circle 1 is greater than circle 2\")\n",
        "elif radius_1 < radius_2:\n",
        "  print(f\"The area of circle having {radius_1} is {3.14*radius_1**2} and the area of circle is {3.14*radius_2**2}, and circle 2 is greater than circle 1\")\n",
        "else:\n",
        "  print(f\"The area of circle having {radius_1} is {3.14*radius_1**2} and the area of circle is {3.14*radius_2**2}, and both are equal\")\n"
      ],
      "metadata": {
        "id": "owAu-9Eqobmd",
        "outputId": "70c97c7f-61af-4d01-db97-96360505a70c",
        "colab": {
          "base_uri": "https://localhost:8080/"
        }
      },
      "execution_count": null,
      "outputs": [
        {
          "output_type": "stream",
          "name": "stdout",
          "text": [
            "Enter the radius of circle 1:4\n",
            "Enter the radius of circle 2:5\n",
            "The area of circle having 4.0 is 50.24 and the area of circle is 78.5, and circle 2 is greater than circle 1\n"
          ]
        }
      ]
    },
    {
      "cell_type": "code",
      "source": [],
      "metadata": {
        "id": "7ouTJKk7wrav"
      },
      "execution_count": null,
      "outputs": []
    },
    {
      "cell_type": "markdown",
      "source": [
        "10. Check whether a year is leap year or not. Use nested if...else to solve this problem. A leap year is exactly divisible by 4 except for century years (years ending with 00). The century year is a leap year only if it is perfectly divisible by 400."
      ],
      "metadata": {
        "id": "Y3Y-iCRTw55g"
      }
    },
    {
      "cell_type": "code",
      "source": [
        "y = int(input(\"Please enter the year\"))\n",
        "if y % 400 == 0 and y % 100 == 0:\n",
        "  print(f\"{y} is a leap year\")\n",
        "elif y % 4 == 0 and y % 100 != 0:\n",
        "  print(f\"{y} is a leap year\")\n",
        "else:\n",
        "    print(f\"{y} is not a leap year\")"
      ],
      "metadata": {
        "id": "5_emZOquw-9R",
        "outputId": "6eb41af1-b46e-43a9-9d3b-31a7bb0dbc5d",
        "colab": {
          "base_uri": "https://localhost:8080/"
        }
      },
      "execution_count": null,
      "outputs": [
        {
          "output_type": "stream",
          "name": "stdout",
          "text": [
            "Please enter the year2004\n",
            "2004 is a leap year\n"
          ]
        }
      ]
    },
    {
      "cell_type": "code",
      "source": [],
      "metadata": {
        "id": "6zcfl1dcxzN0"
      },
      "execution_count": null,
      "outputs": []
    }
  ]
}