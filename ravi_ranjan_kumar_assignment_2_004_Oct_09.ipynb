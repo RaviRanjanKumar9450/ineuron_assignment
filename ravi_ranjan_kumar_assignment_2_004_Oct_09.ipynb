{
  "nbformat": 4,
  "nbformat_minor": 0,
  "metadata": {
    "colab": {
      "provenance": [],
      "collapsed_sections": []
    },
    "kernelspec": {
      "name": "python3",
      "display_name": "Python 3"
    },
    "language_info": {
      "name": "python"
    }
  },
  "cells": [
    {
      "cell_type": "markdown",
      "source": [
        "# ASSIGNMENTS \n",
        "## Send it before 0000 hrs IST or 12 AM Wednesday\n",
        "\n",
        "## NOTE: Evaluation will be done before next class.\n",
        "\n",
        "## HOW TO SUBMIT: -\n",
        "Download this notebook, Solve it and upload in the google form given in the mail."
      ],
      "metadata": {
        "id": "dkGbTD94s6CD"
      }
    },
    {
      "cell_type": "markdown",
      "source": [
        "## control flow and conditional statements"
      ],
      "metadata": {
        "id": "n3FuI-mutNl6"
      }
    },
    {
      "cell_type": "markdown",
      "source": [
        "Q1. Find the largest number from the given list, use for loop.\n",
        "\n",
        "```\n",
        "numbers = [12, 75, 150, 180, 145, 525, 50]\n",
        "```"
      ],
      "metadata": {
        "id": "NCW2epdyuJ-a"
      }
    },
    {
      "cell_type": "markdown",
      "source": [
        "Q2. Print all the even number between (1, 12)."
      ],
      "metadata": {
        "id": "Qsg0i1fTwEQj"
      }
    },
    {
      "cell_type": "markdown",
      "source": [
        "Q3. Calculate the sum of all numbers from 1 to a given number\n",
        "    \n",
        "    Expected Output:\n",
        "\n",
        "    Enter number 10\n",
        "    \n",
        "    Sum is:  55\n"
      ],
      "metadata": {
        "id": "WG2QcDDhwi4a"
      }
    },
    {
      "cell_type": "markdown",
      "source": [
        "Q4. Write a program to display only those numbers from a list that satisfy the following conditions\n",
        "\n",
        "- The number must be divisible by five\n",
        "\n",
        "- If the number is greater than 150, then skip it and move to the next number\n",
        "\n",
        "- If the number is greater than 500, then stop the loop"
      ],
      "metadata": {
        "id": "mc7lLUm5f4Cq"
      }
    },
    {
      "cell_type": "code",
      "source": [
        "# Given:\n",
        "\n",
        "numbers = [12, 75, 150, 180, 145, 525, 50]"
      ],
      "metadata": {
        "id": "P3Ct2ocKf6Hy"
      },
      "execution_count": null,
      "outputs": []
    },
    {
      "cell_type": "markdown",
      "source": [
        "Q5. Print the given list in reverse order.\n",
        "\n",
        "```\n",
        "list1 = [10, 20, 30, 40, 50]\n",
        "```"
      ],
      "metadata": {
        "id": "rrxWvy7nMnAs"
      }
    },
    {
      "cell_type": "code",
      "source": [
        "#solution 1 Find the largest number from the given list, use for loop.\n",
        "numbers = [12, 75, 150, 180, 145, 525, 50]\n",
        "maxim = 0\n",
        "for i in numbers:\n",
        "  if i > maxim:\n",
        "    maxim = i\n",
        "\n",
        "print(f\"The maximum number in {numbers} is {maxim}\")"
      ],
      "metadata": {
        "id": "z-GDgPn3Nr0y",
        "colab": {
          "base_uri": "https://localhost:8080/"
        },
        "outputId": "e28db8fe-2c98-4937-83a9-4d98630bea22"
      },
      "execution_count": null,
      "outputs": [
        {
          "output_type": "stream",
          "name": "stdout",
          "text": [
            "The maximum number in [12, 75, 150, 180, 145, 525, 50] is 525\n"
          ]
        }
      ]
    },
    {
      "cell_type": "code",
      "source": [
        "#Print all the even number between (1, 12)\n",
        "for i in range(1,12):\n",
        "  if i % 2 == 0:\n",
        "    print(f\"The even numbers are: {i}\")"
      ],
      "metadata": {
        "colab": {
          "base_uri": "https://localhost:8080/"
        },
        "id": "VLr0gaAE3hDt",
        "outputId": "58202de1-71d3-4195-ba36-e079bb4eedb6"
      },
      "execution_count": 3,
      "outputs": [
        {
          "output_type": "stream",
          "name": "stdout",
          "text": [
            "The even numbers are: 2\n",
            "The even numbers are: 4\n",
            "The even numbers are: 6\n",
            "The even numbers are: 8\n",
            "The even numbers are: 10\n"
          ]
        }
      ]
    },
    {
      "cell_type": "code",
      "source": [
        "#Calculate the sum of all numbers from 1 to a given number\n",
        "numb = int(input(\"Enter the number: \"))\n",
        "sum = 0\n",
        "for i in range(numb+1):\n",
        "  sum = sum + i\n",
        "  i = i + 1\n",
        "print(f\"The sum of first {numb} is {sum}\")\n"
      ],
      "metadata": {
        "colab": {
          "base_uri": "https://localhost:8080/"
        },
        "id": "-9g3Ms1Z7-7E",
        "outputId": "8cabb625-1646-46d0-de7f-b543c48af305"
      },
      "execution_count": null,
      "outputs": [
        {
          "output_type": "stream",
          "name": "stdout",
          "text": [
            "Enter the number: 10\n",
            "The sum of first 10 is 55\n"
          ]
        }
      ]
    },
    {
      "cell_type": "code",
      "source": [
        "#Write a program to display only those numbers from a list that satisfy the following conditions\n",
        "#The number must be divisible by five\n",
        "#If the number is greater than 150, then skip it and move to the next number\n",
        "#If the number is greater than 500, then stop the loop\n",
        "\n",
        "numbers = [12, 75, 150, 180, 145, 525, 50]\n",
        "new = []\n",
        "for i in numbers:\n",
        "    if i > 150:\n",
        "        if i > 500:\n",
        "            break\n",
        "        continue\n",
        "    if i % 5 == 0:\n",
        "        new.append(i)\n",
        "        \n",
        "print(new)\n"
      ],
      "metadata": {
        "colab": {
          "base_uri": "https://localhost:8080/"
        },
        "id": "ku6CORYl_Ouo",
        "outputId": "66c75d8e-fb8e-43ec-f0f2-59df64e367cd"
      },
      "execution_count": 4,
      "outputs": [
        {
          "output_type": "stream",
          "name": "stdout",
          "text": [
            "[75, 150, 145]\n"
          ]
        }
      ]
    },
    {
      "cell_type": "code",
      "source": [
        "#Print the given list in reverse order.\n",
        "\n",
        "list1 = [10, 20, 30, 40, 50]\n",
        "print(list1[::-1])"
      ],
      "metadata": {
        "id": "XWmFj2g3BO09",
        "colab": {
          "base_uri": "https://localhost:8080/"
        },
        "outputId": "2e1c23d9-bcd0-40b4-d890-be6d0d2adbb3"
      },
      "execution_count": 1,
      "outputs": [
        {
          "output_type": "stream",
          "name": "stdout",
          "text": [
            "[50, 40, 30, 20, 10]\n"
          ]
        }
      ]
    },
    {
      "cell_type": "code",
      "source": [],
      "metadata": {
        "id": "uT3J3VKs1t3y"
      },
      "execution_count": null,
      "outputs": []
    }
  ]
}